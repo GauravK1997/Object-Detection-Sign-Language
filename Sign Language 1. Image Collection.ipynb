{
 "cells": [
  {
   "cell_type": "markdown",
   "id": "4c67fc63",
   "metadata": {},
   "source": [
    "# 1. Importing required libraries"
   ]
  },
  {
   "cell_type": "code",
   "execution_count": 1,
   "id": "3d3c0142",
   "metadata": {},
   "outputs": [],
   "source": [
    "# Import opencv\n",
    "import cv2 \n",
    "\n",
    "# Import uuid\n",
    "import uuid\n",
    "\n",
    "# Import Operating System\n",
    "import os\n",
    "\n",
    "# Import time\n",
    "import time"
   ]
  },
  {
   "cell_type": "markdown",
   "id": "bf11b0c8",
   "metadata": {},
   "source": [
    "# 2. Define Images to collect"
   ]
  },
  {
   "cell_type": "code",
   "execution_count": 11,
   "id": "43852616",
   "metadata": {},
   "outputs": [],
   "source": [
    "labels = ['thumbsup', 'peace', 'thankyou', 'livelong', 'hello']\n",
    "number_imgs = 15"
   ]
  },
  {
   "cell_type": "markdown",
   "id": "d9ec609f",
   "metadata": {},
   "source": [
    "# 3. Setup Folders"
   ]
  },
  {
   "cell_type": "code",
   "execution_count": 12,
   "id": "a0159a3e",
   "metadata": {},
   "outputs": [],
   "source": [
    "IMAGES_PATH = os.path.join('Tensorflow', 'workspace', 'images', 'collectedimages')"
   ]
  },
  {
   "cell_type": "code",
   "execution_count": 13,
   "id": "c9380d9c",
   "metadata": {},
   "outputs": [],
   "source": [
    "if not os.path.exists(IMAGES_PATH):\n",
    "    !mkdir {IMAGES_PATH}\n",
    "        \n",
    "for label in labels:\n",
    "    path = os.path.join(IMAGES_PATH, label)\n",
    "    if not os.path.exists(path):\n",
    "        !mkdir {path}"
   ]
  },
  {
   "cell_type": "markdown",
   "id": "5c3503a1",
   "metadata": {},
   "source": [
    "# 4. Capture Images"
   ]
  },
  {
   "cell_type": "code",
   "execution_count": 15,
   "id": "2dc4128e",
   "metadata": {},
   "outputs": [
    {
     "name": "stdout",
     "output_type": "stream",
     "text": [
      "Collecting images for peace\n",
      "Collecting image 0\n",
      "Collecting image 1\n",
      "Collecting image 2\n",
      "Collecting image 3\n",
      "Collecting image 4\n",
      "Collecting image 5\n",
      "Collecting image 6\n",
      "Collecting images for hello\n",
      "Collecting image 0\n",
      "Collecting image 1\n",
      "Collecting image 2\n",
      "Collecting image 3\n",
      "Collecting image 4\n",
      "Collecting image 5\n",
      "Collecting image 6\n"
     ]
    }
   ],
   "source": [
    "for label in labels:\n",
    "    cap = cv2.VideoCapture(0)\n",
    "    print('Collecting images for {}'.format(label))\n",
    "    time.sleep(5)\n",
    "    for imgnum in range(number_imgs):\n",
    "        print('Collecting image {}'.format(imgnum))\n",
    "        ret, frame = cap.read()\n",
    "        imgname = os.path.join(IMAGES_PATH,label,label+'.'+'{}.jpg'.format(str(uuid.uuid1())))\n",
    "        cv2.imwrite(imgname, frame)\n",
    "        cv2.imshow('frame', frame)\n",
    "        time.sleep(2)\n",
    "\n",
    "        if cv2.waitKey(1) & 0xFF == ord('q'):\n",
    "            break\n",
    "cap.release()\n",
    "cv2.destroyAllWindows()"
   ]
  },
  {
   "cell_type": "markdown",
   "id": "92cde08b",
   "metadata": {},
   "source": [
    "# 5. Labelling the Images"
   ]
  },
  {
   "cell_type": "code",
   "execution_count": 16,
   "id": "2e01fc0d",
   "metadata": {},
   "outputs": [],
   "source": [
    "LABELIMG_PATH = os.path.join('Tensorflow', 'labelimg')"
   ]
  },
  {
   "cell_type": "code",
   "execution_count": 17,
   "id": "dab3c945",
   "metadata": {
    "collapsed": true
   },
   "outputs": [
    {
     "name": "stdout",
     "output_type": "stream",
     "text": [
      "Image:E:\\Tensorflow Object Detection\\TFODCourse\\My Projects\\Tensorflow\\workspace\\images\\collectedimages\\hello\\hello.c2c424de-d1d2-11eb-b704-38dead23370e.jpg -> Annotation:E:/Tensorflow Object Detection/TFODCourse/My Projects/Tensorflow/workspace/images/collectedimages/hello/hello.c2c424de-d1d2-11eb-b704-38dead23370e.xml\n",
      "Image:E:\\Tensorflow Object Detection\\TFODCourse\\My Projects\\Tensorflow\\workspace\\images\\collectedimages\\hello\\hello.c3f9fb74-d1d2-11eb-818d-38dead23370e.jpg -> Annotation:E:/Tensorflow Object Detection/TFODCourse/My Projects/Tensorflow/workspace/images/collectedimages/hello/hello.c3f9fb74-d1d2-11eb-818d-38dead23370e.xml\n",
      "Image:E:\\Tensorflow Object Detection\\TFODCourse\\My Projects\\Tensorflow\\workspace\\images\\collectedimages\\hello\\hello.c7a00d02-d1d2-11eb-939c-38dead23370e.jpg -> Annotation:E:/Tensorflow Object Detection/TFODCourse/My Projects/Tensorflow/workspace/images/collectedimages/hello/hello.c7a00d02-d1d2-11eb-939c-38dead23370e.xml\n",
      "Image:E:\\Tensorflow Object Detection\\TFODCourse\\My Projects\\Tensorflow\\workspace\\images\\collectedimages\\hello\\hello.c8d6bf62-d1d2-11eb-aea5-38dead23370e.jpg -> Annotation:E:/Tensorflow Object Detection/TFODCourse/My Projects/Tensorflow/workspace/images/collectedimages/hello/hello.c8d6bf62-d1d2-11eb-aea5-38dead23370e.xml\n",
      "Image:E:\\Tensorflow Object Detection\\TFODCourse\\My Projects\\Tensorflow\\workspace\\images\\collectedimages\\hello\\hello.c52fbff8-d1d2-11eb-b069-38dead23370e.jpg -> Annotation:E:/Tensorflow Object Detection/TFODCourse/My Projects/Tensorflow/workspace/images/collectedimages/hello/hello.c52fbff8-d1d2-11eb-b069-38dead23370e.xml\n",
      "Image:E:\\Tensorflow Object Detection\\TFODCourse\\My Projects\\Tensorflow\\workspace\\images\\collectedimages\\hello\\hello.c6645b98-d1d2-11eb-af78-38dead23370e.jpg -> Annotation:E:/Tensorflow Object Detection/TFODCourse/My Projects/Tensorflow/workspace/images/collectedimages/hello/hello.c6645b98-d1d2-11eb-af78-38dead23370e.xml\n",
      "Image:E:\\Tensorflow Object Detection\\TFODCourse\\My Projects\\Tensorflow\\workspace\\images\\collectedimages\\hello\\hello.ca0e7380-d1d2-11eb-898c-38dead23370e.jpg -> Annotation:E:/Tensorflow Object Detection/TFODCourse/My Projects/Tensorflow/workspace/images/collectedimages/hello/hello.ca0e7380-d1d2-11eb-898c-38dead23370e.xml\n",
      "Image:E:\\Tensorflow Object Detection\\TFODCourse\\My Projects\\Tensorflow\\workspace\\images\\collectedimages\\hello\\hello.f4b8c4b6-d1d2-11eb-bad0-38dead23370e.jpg -> Annotation:E:/Tensorflow Object Detection/TFODCourse/My Projects/Tensorflow/workspace/images/collectedimages/hello/hello.f4b8c4b6-d1d2-11eb-bad0-38dead23370e.xml\n",
      "Image:E:\\Tensorflow Object Detection\\TFODCourse\\My Projects\\Tensorflow\\workspace\\images\\collectedimages\\hello\\hello.f5f1aac6-d1d2-11eb-9e47-38dead23370e.jpg -> Annotation:E:/Tensorflow Object Detection/TFODCourse/My Projects/Tensorflow/workspace/images/collectedimages/hello/hello.f5f1aac6-d1d2-11eb-9e47-38dead23370e.xml\n",
      "Image:E:\\Tensorflow Object Detection\\TFODCourse\\My Projects\\Tensorflow\\workspace\\images\\collectedimages\\hello\\hello.f85dd234-d1d2-11eb-aef9-38dead23370e.jpg -> Annotation:E:/Tensorflow Object Detection/TFODCourse/My Projects/Tensorflow/workspace/images/collectedimages/hello/hello.f85dd234-d1d2-11eb-aef9-38dead23370e.xml\n",
      "Image:E:\\Tensorflow Object Detection\\TFODCourse\\My Projects\\Tensorflow\\workspace\\images\\collectedimages\\hello\\hello.f726c574-d1d2-11eb-b11d-38dead23370e.jpg -> Annotation:E:/Tensorflow Object Detection/TFODCourse/My Projects/Tensorflow/workspace/images/collectedimages/hello/hello.f726c574-d1d2-11eb-b11d-38dead23370e.xml\n",
      "Image:E:\\Tensorflow Object Detection\\TFODCourse\\My Projects\\Tensorflow\\workspace\\images\\collectedimages\\hello\\hello.f9923dcc-d1d2-11eb-8552-38dead23370e.jpg -> Annotation:E:/Tensorflow Object Detection/TFODCourse/My Projects/Tensorflow/workspace/images/collectedimages/hello/hello.f9923dcc-d1d2-11eb-8552-38dead23370e.xml\n",
      "Image:E:\\Tensorflow Object Detection\\TFODCourse\\My Projects\\Tensorflow\\workspace\\images\\collectedimages\\hello\\hello.fac6db76-d1d2-11eb-a4f0-38dead23370e.jpg -> Annotation:E:/Tensorflow Object Detection/TFODCourse/My Projects/Tensorflow/workspace/images/collectedimages/hello/hello.fac6db76-d1d2-11eb-a4f0-38dead23370e.xml\n",
      "Cancel creation.\n",
      "Cancel creation.\n",
      "Image:E:\\Tensorflow Object Detection\\TFODCourse\\My Projects\\Tensorflow\\workspace\\images\\collectedimages\\hello\\hello.fbfb50a6-d1d2-11eb-960e-38dead23370e.jpg -> Annotation:E:/Tensorflow Object Detection/TFODCourse/My Projects/Tensorflow/workspace/images/collectedimages/hello/hello.fbfb50a6-d1d2-11eb-960e-38dead23370e.xml\n",
      "Image:E:\\Tensorflow Object Detection\\TFODCourse\\My Projects\\Tensorflow\\workspace\\images\\collectedimages\\peace\\peace.b8b8dd0c-d1d2-11eb-b5ca-38dead23370e.jpg -> Annotation:E:/Tensorflow Object Detection/TFODCourse/My Projects/Tensorflow/workspace/images/collectedimages/peace/peace.b8b8dd0c-d1d2-11eb-b5ca-38dead23370e.xml\n",
      "Image:E:\\Tensorflow Object Detection\\TFODCourse\\My Projects\\Tensorflow\\workspace\\images\\collectedimages\\peace\\peace.b9ee62c2-d1d2-11eb-98f5-38dead23370e.jpg -> Annotation:E:/Tensorflow Object Detection/TFODCourse/My Projects/Tensorflow/workspace/images/collectedimages/peace/peace.b9ee62c2-d1d2-11eb-98f5-38dead23370e.xml\n",
      "Image:E:\\Tensorflow Object Detection\\TFODCourse\\My Projects\\Tensorflow\\workspace\\images\\collectedimages\\peace\\peace.b6360bba-d1d2-11eb-a8b7-38dead23370e.jpg -> Annotation:E:/Tensorflow Object Detection/TFODCourse/My Projects/Tensorflow/workspace/images/collectedimages/peace/peace.b6360bba-d1d2-11eb-a8b7-38dead23370e.xml\n",
      "Image:E:\\Tensorflow Object Detection\\TFODCourse\\My Projects\\Tensorflow\\workspace\\images\\collectedimages\\peace\\peace.b78255c2-d1d2-11eb-a1ac-38dead23370e.jpg -> Annotation:E:/Tensorflow Object Detection/TFODCourse/My Projects/Tensorflow/workspace/images/collectedimages/peace/peace.b78255c2-d1d2-11eb-a1ac-38dead23370e.xml\n",
      "Image:E:\\Tensorflow Object Detection\\TFODCourse\\My Projects\\Tensorflow\\workspace\\images\\collectedimages\\peace\\peace.bb312f76-d1d2-11eb-9588-38dead23370e.jpg -> Annotation:E:/Tensorflow Object Detection/TFODCourse/My Projects/Tensorflow/workspace/images/collectedimages/peace/peace.bb312f76-d1d2-11eb-9588-38dead23370e.xml\n",
      "Image:E:\\Tensorflow Object Detection\\TFODCourse\\My Projects\\Tensorflow\\workspace\\images\\collectedimages\\peace\\peace.bc658f82-d1d2-11eb-8440-38dead23370e.jpg -> Annotation:E:/Tensorflow Object Detection/TFODCourse/My Projects/Tensorflow/workspace/images/collectedimages/peace/peace.bc658f82-d1d2-11eb-8440-38dead23370e.xml\n",
      "Image:E:\\Tensorflow Object Detection\\TFODCourse\\My Projects\\Tensorflow\\workspace\\images\\collectedimages\\peace\\peace.bda20680-d1d2-11eb-a3aa-38dead23370e.jpg -> Annotation:E:/Tensorflow Object Detection/TFODCourse/My Projects/Tensorflow/workspace/images/collectedimages/peace/peace.bda20680-d1d2-11eb-a3aa-38dead23370e.xml\n",
      "Image:E:\\Tensorflow Object Detection\\TFODCourse\\My Projects\\Tensorflow\\workspace\\images\\collectedimages\\peace\\peace.e85bdd0c-d1d2-11eb-91d0-38dead23370e.jpg -> Annotation:E:/Tensorflow Object Detection/TFODCourse/My Projects/Tensorflow/workspace/images/collectedimages/peace/peace.e85bdd0c-d1d2-11eb-91d0-38dead23370e.xml\n",
      "Image:E:\\Tensorflow Object Detection\\TFODCourse\\My Projects\\Tensorflow\\workspace\\images\\collectedimages\\peace\\peace.e99191c8-d1d2-11eb-a182-38dead23370e.jpg -> Annotation:E:/Tensorflow Object Detection/TFODCourse/My Projects/Tensorflow/workspace/images/collectedimages/peace/peace.e99191c8-d1d2-11eb-a182-38dead23370e.xml\n",
      "Image:E:\\Tensorflow Object Detection\\TFODCourse\\My Projects\\Tensorflow\\workspace\\images\\collectedimages\\peace\\peace.eacef424-d1d2-11eb-9933-38dead23370e.jpg -> Annotation:E:/Tensorflow Object Detection/TFODCourse/My Projects/Tensorflow/workspace/images/collectedimages/peace/peace.eacef424-d1d2-11eb-9933-38dead23370e.xml\n",
      "Image:E:\\Tensorflow Object Detection\\TFODCourse\\My Projects\\Tensorflow\\workspace\\images\\collectedimages\\peace\\peace.ec050738-d1d2-11eb-b67d-38dead23370e.jpg -> Annotation:E:/Tensorflow Object Detection/TFODCourse/My Projects/Tensorflow/workspace/images/collectedimages/peace/peace.ec050738-d1d2-11eb-b67d-38dead23370e.xml\n",
      "Image:E:\\Tensorflow Object Detection\\TFODCourse\\My Projects\\Tensorflow\\workspace\\images\\collectedimages\\peace\\peace.ed37c4b4-d1d2-11eb-92b2-38dead23370e.jpg -> Annotation:E:/Tensorflow Object Detection/TFODCourse/My Projects/Tensorflow/workspace/images/collectedimages/peace/peace.ed37c4b4-d1d2-11eb-92b2-38dead23370e.xml\n",
      "Image:E:\\Tensorflow Object Detection\\TFODCourse\\My Projects\\Tensorflow\\workspace\\images\\collectedimages\\peace\\peace.ee6c0dca-d1d2-11eb-be3b-38dead23370e.jpg -> Annotation:E:/Tensorflow Object Detection/TFODCourse/My Projects/Tensorflow/workspace/images/collectedimages/peace/peace.ee6c0dca-d1d2-11eb-be3b-38dead23370e.xml\n",
      "Image:E:\\Tensorflow Object Detection\\TFODCourse\\My Projects\\Tensorflow\\workspace\\images\\collectedimages\\peace\\peace.efa2ec9e-d1d2-11eb-be67-38dead23370e.jpg -> Annotation:E:/Tensorflow Object Detection/TFODCourse/My Projects/Tensorflow/workspace/images/collectedimages/peace/peace.efa2ec9e-d1d2-11eb-be67-38dead23370e.xml\n"
     ]
    }
   ],
   "source": [
    "# Open Label Image\n",
    "!cd {LABELIMG_PATH} && python labelImg.py"
   ]
  },
  {
   "cell_type": "markdown",
   "id": "bf4709ae",
   "metadata": {},
   "source": [
    "# 6. Move them into a Training and Testing Partition"
   ]
  }
 ],
 "metadata": {
  "kernelspec": {
   "display_name": "tfod",
   "language": "python",
   "name": "tfod"
  },
  "language_info": {
   "codemirror_mode": {
    "name": "ipython",
    "version": 3
   },
   "file_extension": ".py",
   "mimetype": "text/x-python",
   "name": "python",
   "nbconvert_exporter": "python",
   "pygments_lexer": "ipython3",
   "version": "3.7.10"
  }
 },
 "nbformat": 4,
 "nbformat_minor": 5
}
